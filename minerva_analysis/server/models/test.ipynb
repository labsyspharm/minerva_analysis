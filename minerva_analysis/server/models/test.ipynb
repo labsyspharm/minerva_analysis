{
 "cells": [
  {
   "cell_type": "code",
   "execution_count": 1,
   "metadata": {
    "collapsed": true
   },
   "outputs": [],
   "source": [
    "import tifffile as tf\n",
    "import zarr\n",
    "import numpy as np\n",
    "import pandas as pd"
   ]
  },
  {
   "cell_type": "code",
   "execution_count": 2,
   "outputs": [],
   "source": [
    "seg_io = tf.TiffFile(\"/Users/swarchol/Downloads/wetransfer_celllabels_f012-tif-ome-tiff_2022-10-31_1912/CellLabels_F012.tif.ome.tiff\", is_ome=False)\n",
    "seg = zarr.open(seg_io.series[0].aszarr())"
   ],
   "metadata": {
    "collapsed": false
   }
  },
  {
   "cell_type": "code",
   "execution_count": 3,
   "outputs": [],
   "source": [
    "df = pd.read_csv('/Users/swarchol/Research/minerva_analysis/minerva_analysis/data/Frank/Nov2.csv')"
   ],
   "metadata": {
    "collapsed": false
   }
  },
  {
   "cell_type": "code",
   "execution_count": 26,
   "outputs": [
    {
     "data": {
      "text/plain": "cell_ID                         2\nCenterX_local_px               18\nCenterY_local_px             3618\nMean.MembraneStain           1036\nMean.PanCK                    229\nMean.CD45                     123\nMean.CD3                        0\nMean.DAPI                    3460\nCenterX_global_px     12840.22222\nCenterY_global_px     170090.2222\nphenotype                   Simon\nName: 1, dtype: object"
     },
     "execution_count": 26,
     "metadata": {},
     "output_type": "execute_result"
    }
   ],
   "source": [
    "df.iloc[1]"
   ],
   "metadata": {
    "collapsed": false
   }
  },
  {
   "cell_type": "code",
   "execution_count": 13,
   "outputs": [
    {
     "data": {
      "text/plain": "array([], shape=(0, 0), dtype=int64)"
     },
     "execution_count": 13,
     "metadata": {},
     "output_type": "execute_result"
    }
   ],
   "source": [
    "np.argwhere(seg[0]==2)"
   ],
   "metadata": {
    "collapsed": false
   }
  },
  {
   "cell_type": "code",
   "execution_count": 27,
   "outputs": [
    {
     "data": {
      "text/plain": "array([[544, 497],\n       [544, 498],\n       [544, 499],\n       ...,\n       [649, 416],\n       [649, 417],\n       [650, 412]])"
     },
     "execution_count": 27,
     "metadata": {},
     "output_type": "execute_result"
    }
   ],
   "source": [
    "np.argwhere(np.array(seg[0])==433)"
   ],
   "metadata": {
    "collapsed": false
   }
  },
  {
   "cell_type": "code",
   "execution_count": 19,
   "outputs": [
    {
     "data": {
      "text/plain": "433"
     },
     "execution_count": 19,
     "metadata": {},
     "output_type": "execute_result"
    }
   ],
   "source": [
    "seg[0][544,497]"
   ],
   "metadata": {
    "collapsed": false
   }
  },
  {
   "cell_type": "code",
   "execution_count": 29,
   "outputs": [
    {
     "data": {
      "text/plain": "cell_ID                       433\nCenterX_local_px              408\nCenterY_local_px             3051\nMean.MembraneStain           5757\nMean.PanCK                  25508\nMean.CD45                      71\nMean.CD3                        0\nMean.DAPI                    1790\nCenterX_global_px     13230.22222\nCenterY_global_px     169523.2222\nphenotype                   Simon\nName: 432, dtype: object"
     },
     "execution_count": 29,
     "metadata": {},
     "output_type": "execute_result"
    }
   ],
   "source": [
    "df.iloc[432]\n"
   ],
   "metadata": {
    "collapsed": false
   }
  },
  {
   "cell_type": "code",
   "execution_count": null,
   "outputs": [],
   "source": [],
   "metadata": {
    "collapsed": false
   }
  }
 ],
 "metadata": {
  "kernelspec": {
   "display_name": "Python 3",
   "language": "python",
   "name": "python3"
  },
  "language_info": {
   "codemirror_mode": {
    "name": "ipython",
    "version": 2
   },
   "file_extension": ".py",
   "mimetype": "text/x-python",
   "name": "python",
   "nbconvert_exporter": "python",
   "pygments_lexer": "ipython2",
   "version": "2.7.6"
  }
 },
 "nbformat": 4,
 "nbformat_minor": 0
}
